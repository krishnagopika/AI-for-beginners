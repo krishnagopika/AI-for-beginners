{
 "cells": [
  {
   "cell_type": "code",
   "execution_count": null,
   "id": "bfddbbc5",
   "metadata": {},
   "outputs": [],
   "source": [
    "! pip install google-genai"
   ]
  },
  {
   "cell_type": "code",
   "execution_count": 20,
   "id": "af67805e",
   "metadata": {},
   "outputs": [
    {
     "data": {
      "text/plain": [
       "'Dog: Medium\\n'"
      ]
     },
     "execution_count": 20,
     "metadata": {},
     "output_type": "execute_result"
    }
   ],
   "source": [
    "from google import genai\n",
    "from google.genai import types\n",
    "import os\n",
    "\n",
    "client = genai.Client(api_key=os.environ[\"GEMINI_API_KEY\"])\n",
    "\n",
    "response = client.models.generate_content(\n",
    "    model=\"gemini-2.0-flash\",\n",
    "    config = types.GenerateContentConfig(\n",
    "        temperature=0.5,\n",
    "        max_output_tokens=6000,\n",
    "        # system_instruction=\"you are the jedi master yoda. Answer questions with the same wisdom and style as yoda.\"\n",
    "\n",
    "    ),\n",
    "    contents = \"examples: cat: small, whale: huge now catogrise the animal dog?  `output format:` Animal: category\"\n",
    "\n",
    ")\n",
    "\n",
    "response.text"
   ]
  },
  {
   "cell_type": "code",
   "execution_count": null,
   "id": "60754851",
   "metadata": {},
   "outputs": [
    {
     "data": {
      "text/plain": [
       "\"Here's the analysis of the Anker Soundcore Life Q30 Bluetooth Headphones reviews:\\n\\n**summary:**\\n\\nThe Anker Soundcore Life Q30 headphones are praised for their great sound quality, amazing battery life, and effective noise cancellation. They are comfortable and suitable for work and travel. Some users find them a bit bulky and note a slightly cheap plastic build, but consider them a good value for the price.\\n\\n**keywords:**\\n\\n*   keyword: Sound quality\\n    *   sentiment: Positive\\n*   keyword: Battery life\\n    *   sentiment: Positive\\n*   keyword: Noise cancellation\\n    *   sentiment: Positive\\n*   keyword: Comfort\\n    *   sentiment: Positive\\n*   keyword: Build quality\\n    *   sentiment: Negative\\n*   keyword: Value\\n    *   sentiment: Positive\\n\""
      ]
     },
     "execution_count": 24,
     "metadata": {},
     "output_type": "execute_result"
    }
   ],
   "source": [
    "response = client.models.generate_content(\n",
    "    model=\"gemini-2.0-flash\",\n",
    "    config = types.GenerateContentConfig(\n",
    "        temperature=0.5,\n",
    "        max_output_tokens=6000,\n",
    "        # system_instruction=\"you are the jedi master yoda. Answer questions with the same wisdom and style as yoda.\"\n",
    "\n",
    "    ),\n",
    "    contents = \"\"\"\"\n",
    "\n",
    "\n",
    "\n",
    "   - summarize all the reviews under 300 tokens. \n",
    "   - extract keywords from product reviews.\n",
    "   - identify the sentiment for each keyword.\n",
    "    \n",
    "   reviews:\n",
    "\n",
    "   product : Anker Soundcore Life Q30 Bluetooth Headphones\n",
    "\n",
    "   review 1: Great sound and amazing battery life! Noise cancellation works surprisingly well. A bit bulky, but overall worth it.\n",
    "   review 2: Super comfortable and the audio quality is excellent. Perfect for work and travel!\n",
    "   review 3: Good value for the price, but the plastic build feels a little cheap. Still, the noise cancelling is decent.\n",
    "\n",
    "   output format:\n",
    "\n",
    "   summary:\n",
    "\n",
    "   keywords: \n",
    "   -  keyword: \n",
    "   - sentiment: \n",
    "\n",
    "\n",
    "    \"\"\"\n",
    "\n",
    ")\n",
    "\n",
    "response.text"
   ]
  },
  {
   "cell_type": "code",
   "execution_count": 25,
   "id": "95ce9941",
   "metadata": {},
   "outputs": [
    {
     "data": {
      "text/plain": [
       "'Let\\'s think step by step.\\n\\n1.  **Einstein\\'s Theory of Special Relativity:** This theory describes the relationship between space and time, especially at high speeds. A key concept is time dilation.\\n\\n2.  **Time Dilation:** According to special relativity, time slows down for an object as its speed increases relative to a stationary observer. The faster the object moves, the slower time passes for it.\\n\\n3.  **Approaching the Speed of Light:** As an object approaches the speed of light, time dilation becomes increasingly significant. Hypothetically, if an object were to reach the speed of light, time would, from the perspective of a stationary observer, appear to stop for that object.\\n\\n4.  **Traveling at the Speed of Light:** Reaching the speed of light is considered impossible for objects with mass, according to our current understanding of physics. It would require infinite energy.\\n\\n5.  **Time Travel Implications:** If an object *could* travel at or near the speed of light, the extreme time dilation *could* be interpreted as a form of \"time travel\" to the future. The traveler would experience less time passing than someone who remained stationary. However, this is only one-way time travel to the future.\\n\\n6.  **Causality Problems:** The idea of traveling *faster* than light or backward in time raises significant problems with causality. If one could travel back in time, they could potentially alter the past, leading to paradoxes (e.g., the grandfather paradox).\\n\\n7.  **Current Understanding:** While special relativity allows for time dilation and thus a kind of one-way \"time travel\" to the future, it does not allow for travel to the past. Furthermore, achieving the speed of light is considered impossible for massive objects.\\n\\nTherefore, based on our current understanding of physics, while approaching the speed of light leads to significant time dilation, which could be considered a form of one-way time travel to the future, true time travel (especially to the past) remains highly speculative and faces significant theoretical challenges.\\n\\n**Answer:** While traveling *near* the speed of light results in time dilation, effectively allowing someone to travel to the future at a different rate than someone who is stationary, reaching the speed of light is considered impossible, and traveling to the past is highly speculative and problematic due to causality issues.\\n'"
      ]
     },
     "execution_count": 25,
     "metadata": {},
     "output_type": "execute_result"
    }
   ],
   "source": [
    "response = client.models.generate_content(\n",
    "    model=\"gemini-2.0-flash\",\n",
    "    config = types.GenerateContentConfig(\n",
    "        temperature=0.5,\n",
    "        max_output_tokens=6000,\n",
    "        system_instruction=\" you are an AI assistant that answers questions using Reasoning and Action. think step by step. Alternate between Thought and Action as needed. Provide the answer once you are sure about the final answer.\"\n",
    "\n",
    "    ),\n",
    "    contents = \"Do you think time travel is possible when someone travels at the speed of light?\"\n",
    "\n",
    ")\n",
    "\n",
    "response.text"
   ]
  },
  {
   "cell_type": "code",
   "execution_count": null,
   "id": "f4552286",
   "metadata": {},
   "outputs": [],
   "source": []
  }
 ],
 "metadata": {
  "kernelspec": {
   "display_name": ".venv",
   "language": "python",
   "name": "python3"
  },
  "language_info": {
   "codemirror_mode": {
    "name": "ipython",
    "version": 3
   },
   "file_extension": ".py",
   "mimetype": "text/x-python",
   "name": "python",
   "nbconvert_exporter": "python",
   "pygments_lexer": "ipython3",
   "version": "3.12.5"
  }
 },
 "nbformat": 4,
 "nbformat_minor": 5
}
